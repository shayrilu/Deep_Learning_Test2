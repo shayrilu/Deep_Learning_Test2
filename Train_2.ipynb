{
 "cells": [
  {
   "cell_type": "code",
   "execution_count": 42,
   "metadata": {},
   "outputs": [],
   "source": [
    "import torch, torchvision\n",
    "import torch.nn as nn\n",
    "import torch.nn.functional as F\n",
    "import torch.optim as optim\n",
    "import torch.backends.cudnn as cudnn\n",
    "import numpy as np\n",
    "import matplotlib.pyplot as plt\n",
    "import os ,cv2, glob, copy, random, time\n",
    "import torchvision\n",
    "import torchvision.transforms as transforms\n",
    "import seaborn as sn\n",
    "import pandas as pd\n",
    "\n",
    "%matplotlib inline\n",
    "\n",
    "from PIL import Image\n",
    "from torch.utils.data import Dataset\n",
    "from torch.utils.data import DataLoader\n",
    "from torchvision import datasets, models\n",
    "from torch.optim import lr_scheduler\n",
    "from torchsummary import summary\n",
    "from sklearn.metrics import confusion_matrix"
   ]
  },
  {
   "cell_type": "code",
   "execution_count": 1,
   "metadata": {},
   "outputs": [
    {
     "ename": "NameError",
     "evalue": "name 'transforms' is not defined",
     "output_type": "error",
     "traceback": [
      "\u001b[1;31m---------------------------------------------------------------------------\u001b[0m",
      "\u001b[1;31mNameError\u001b[0m                                 Traceback (most recent call last)",
      "\u001b[1;32m<ipython-input-1-b86cf25eddf2>\u001b[0m in \u001b[0;36m<module>\u001b[1;34m\u001b[0m\n\u001b[0;32m      3\u001b[0m \u001b[0mstd\u001b[0m \u001b[1;33m=\u001b[0m \u001b[1;33m[\u001b[0m\u001b[1;36m0.229\u001b[0m\u001b[1;33m,\u001b[0m \u001b[1;36m0.224\u001b[0m\u001b[1;33m,\u001b[0m \u001b[1;36m0.225\u001b[0m\u001b[1;33m]\u001b[0m\u001b[1;33m\u001b[0m\u001b[1;33m\u001b[0m\u001b[0m\n\u001b[0;32m      4\u001b[0m image_transforms = {\n\u001b[1;32m----> 5\u001b[1;33m     'train': transforms.Compose([\n\u001b[0m\u001b[0;32m      6\u001b[0m         \u001b[0mtransforms\u001b[0m\u001b[1;33m.\u001b[0m\u001b[0mResize\u001b[0m\u001b[1;33m(\u001b[0m\u001b[1;36m256\u001b[0m\u001b[1;33m)\u001b[0m\u001b[1;33m,\u001b[0m\u001b[1;33m\u001b[0m\u001b[1;33m\u001b[0m\u001b[0m\n\u001b[0;32m      7\u001b[0m         \u001b[0mtransforms\u001b[0m\u001b[1;33m.\u001b[0m\u001b[0mCenterCrop\u001b[0m\u001b[1;33m(\u001b[0m\u001b[1;36m224\u001b[0m\u001b[1;33m)\u001b[0m\u001b[1;33m,\u001b[0m\u001b[1;33m\u001b[0m\u001b[1;33m\u001b[0m\u001b[0m\n",
      "\u001b[1;31mNameError\u001b[0m: name 'transforms' is not defined"
     ]
    }
   ],
   "source": [
    "# Applying Transforms to the Data\n",
    "mean = [0.485, 0.456, 0.406]\n",
    "std = [0.229, 0.224, 0.225]\n",
    "image_transforms = {\n",
    "    'train': transforms.Compose([\n",
    "        transforms.Resize(256),\n",
    "        transforms.CenterCrop(224),\n",
    "        transforms.RandomRotation(degrees=15),\n",
    "        transforms.ToTensor(),\n",
    "        transforms.Normalize(mean, std)\n",
    "    ]),\n",
    "\n",
    "    'valid': transforms.Compose([\n",
    "        transforms.Resize(256),\n",
    "        transforms.CenterCrop(224),\n",
    "        transforms.ToTensor(),\n",
    "        transforms.Normalize(mean, std)\n",
    "    ])\n",
    "}\n",
    "\n",
    "dataset = 'C:/Users/User/Deep Learning Workshop/data/fruit_dataset_'\n",
    "\n",
    "train_directory = os.path.join(dataset, 'train')\n",
    "valid_directory = os.path.join(dataset, 'validation')\n",
    "\n",
    "batchSize = 64\n",
    "\n",
    "num_classes = len(os.listdir(train_directory))\n",
    "print(\"number of classes: \",num_classes)\n",
    "\n",
    "data = {\n",
    "    'train': datasets.ImageFolder(root=train_directory, transform=image_transforms['train']),\n",
    "\n",
    "    'valid': datasets.ImageFolder(root=valid_directory, transform=image_transforms['valid'])\n",
    "}\n",
    "\n",
    "train_data_size = len(data['train'])\n",
    "valid_data_size = len(data['valid'])\n",
    "\n",
    "print(\"Number of train image: \",train_data_size)\n",
    "print(\"Number of validation image: \",valid_data_size)\n",
    "\n",
    "train_loader = DataLoader(dataset=data['train'], batch_size=batchSize, num_workers=2, shuffle=True) \n",
    "\n",
    "valid_loader = DataLoader(dataset=data['valid'],  batch_size=batchSize, num_workers=2, shuffle=False)\n",
    "\n",
    "device = torch.device(\"cuda:0\" if torch.cuda.is_available() else \"cpu\")\n",
    "print(device)"
   ]
  },
  {
   "cell_type": "code",
   "execution_count": 56,
   "metadata": {},
   "outputs": [],
   "source": [
    "def train_and_validate(model, loss_criterion, optimizer, epochs=25):\n",
    "    \n",
    "    start = time.time()\n",
    "    history = []\n",
    "    best_acc = 0.0\n",
    "\n",
    "    for epoch in range(epochs):\n",
    "        epoch_start = time.time()\n",
    "        print(\"Epoch: {}/{}\".format(epoch+1, epochs))\n",
    "        \n",
    "        model.train()\n",
    "        \n",
    "        train_loss = 0.0\n",
    "        train_acc = 0.0\n",
    "        \n",
    "        valid_loss = 0.0\n",
    "        valid_acc = 0.0\n",
    "        \n",
    "        for i, (inputs, labels) in enumerate(train_loader):\n",
    "\n",
    "            inputs = inputs.to(device)\n",
    "            labels = labels.to(device)\n",
    "            \n",
    "            # Clean existing gradients\n",
    "            optimizer.zero_grad()\n",
    "            \n",
    "            # Forward pass - compute outputs on input data using the model\n",
    "            outputs = model(inputs)\n",
    "            \n",
    "            # Compute loss\n",
    "            loss = loss_criterion(outputs, labels)\n",
    "            \n",
    "            # Backpropagate the gradients\n",
    "            loss.backward()\n",
    "            \n",
    "            # Update the parameters\n",
    "            optimizer.step()\n",
    "            \n",
    "            # Compute the total loss for the batch and add it to train_loss\n",
    "            train_loss += loss.item() * inputs.size(0)\n",
    "            \n",
    "            # Compute the accuracy\n",
    "            ret, predictions = torch.max(outputs.data, 1)\n",
    "            correct_counts = predictions.eq(labels.data.view_as(predictions))\n",
    "            \n",
    "            # Convert correct_counts to float and then compute the mean\n",
    "            acc = torch.mean(correct_counts.type(torch.FloatTensor))\n",
    "            \n",
    "            # Compute total accuracy in the whole batch and add to train_acc\n",
    "            train_acc += acc.item() * inputs.size(0)\n",
    "            \n",
    "            #print(\"Batch number: {:03d}, Training: Loss: {:.4f}, Accuracy: {:.4f}\".format(i, loss.item(), acc.item()))\n",
    "            \n",
    "        # Validation - No gradient tracking needed\n",
    "        with torch.no_grad():\n",
    "\n",
    "            model.eval()\n",
    "\n",
    "            # Validation loop\n",
    "            for j, (inputs, labels) in enumerate(valid_loader):\n",
    "                inputs = inputs.to(device)\n",
    "                labels = labels.to(device)\n",
    "\n",
    "                # Forward pass - compute outputs on input data using the model\n",
    "                outputs = model(inputs)\n",
    "\n",
    "                # Compute loss\n",
    "                loss = loss_criterion(outputs, labels)\n",
    "\n",
    "                # Compute the total loss for the batch and add it to valid_loss\n",
    "                valid_loss += loss.item() * inputs.size(0)\n",
    "\n",
    "                # Calculate validation accuracy\n",
    "                ret, predictions = torch.max(outputs.data, 1)\n",
    "                correct_counts = predictions.eq(labels.data.view_as(predictions))\n",
    "\n",
    "                # Convert correct_counts to float and then compute the mean\n",
    "                acc = torch.mean(correct_counts.type(torch.FloatTensor))\n",
    "\n",
    "                # Compute total accuracy in the whole batch and add to valid_acc\n",
    "                valid_acc += acc.item() * inputs.size(0)\n",
    "\n",
    "                #print(\"Validation Batch number: {:03d}, Validation: Loss: {:.4f}, Accuracy: {:.4f}\".format(j, loss.item(), acc.item()))\n",
    "            \n",
    "        # Find average training loss and training accuracy\n",
    "        avg_train_loss = train_loss/train_data_size \n",
    "        avg_train_acc = train_acc/train_data_size\n",
    "\n",
    "        # Find average training loss and training accuracy\n",
    "        avg_valid_loss = valid_loss/valid_data_size \n",
    "        avg_valid_acc = valid_acc/valid_data_size\n",
    "\n",
    "        history.append([avg_train_loss, avg_valid_loss, avg_train_acc, avg_valid_acc])\n",
    "                \n",
    "        epoch_end = time.time()\n",
    "    \n",
    "        print(\"\\t\\tEpoch   : {:03d}, Training: Loss: {:.4f}, Accuracy: {:.4f}%, \\n\\t\\tValidation : Loss : {:.4f}, Accuracy: {:.4f}%, Time: {:.4f}s\".format(epoch, avg_train_loss, avg_train_acc*100, avg_valid_loss, avg_valid_acc*100, epoch_end-epoch_start))\n",
    "        \n",
    "        # Save if the model has best accuracy till now\n",
    "#         torch.save(model, 'Fruit_Model_Classification'+str(epoch)+'.pt')\n",
    "            \n",
    "    return model, history"
   ]
  },
  {
   "cell_type": "code",
   "execution_count": 57,
   "metadata": {},
   "outputs": [],
   "source": [
    "gugelnet = models.googlenet(pretrained=True)\n",
    "numFeatures = gugelnet.fc.in_features\n",
    "\n",
    "for module, param in zip(gugelnet.modules(), gugelnet.parameters()):\n",
    "    if isinstance(module, nn.BatchNorm2d):\n",
    "        param.requires_grad = False\n",
    "\n",
    "headModel = nn.Sequential(nn.Linear(numFeatures, 512),\n",
    "                          nn.ReLU(),\n",
    "                          nn.Dropout(0.5),\n",
    "                          nn.Linear(512, 256),\n",
    "                          nn.ReLU(),\n",
    "                          nn.Dropout(0.25),\n",
    "                          nn.Linear(256, 128),\n",
    "                          nn.ReLU(),\n",
    "                          nn.Dropout(0.25),\n",
    "                          nn.Linear(128, 64),\n",
    "                          nn.ReLU(),\n",
    "                          nn.Dropout(0.25),\n",
    "                          nn.Linear(64, num_classes))\n",
    "\n",
    "gugelnet.fc = headModel\n",
    "\n",
    "gugelnet.to(device)\n",
    "\n",
    "loss = nn.CrossEntropyLoss()\n",
    "opt = optim.Adam(gugelnet.parameters(), lr=0.001)\n",
    "epochs = 30"
   ]
  },
  {
   "cell_type": "code",
   "execution_count": 58,
   "metadata": {
    "scrolled": true
   },
   "outputs": [
    {
     "name": "stdout",
     "output_type": "stream",
     "text": [
      "Epoch: 1/30\n",
      "\t\tEpoch   : 000, Training: Loss: 1.2050, Accuracy: 39.9232%, \n",
      "\t\tValidation : Loss : 1.7682, Accuracy: 28.4830%, Time: 15.6490s\n",
      "Epoch: 2/30\n",
      "\t\tEpoch   : 001, Training: Loss: 0.9588, Accuracy: 50.2879%, \n",
      "\t\tValidation : Loss : 1.6108, Accuracy: 30.0310%, Time: 9.4320s\n",
      "Epoch: 3/30\n",
      "\t\tEpoch   : 002, Training: Loss: 0.5725, Accuracy: 75.8157%, \n",
      "\t\tValidation : Loss : 2.6072, Accuracy: 30.3406%, Time: 10.6050s\n",
      "Epoch: 4/30\n",
      "\t\tEpoch   : 003, Training: Loss: 0.5147, Accuracy: 75.0480%, \n",
      "\t\tValidation : Loss : 2.1203, Accuracy: 27.8638%, Time: 10.7290s\n",
      "Epoch: 5/30\n",
      "\t\tEpoch   : 004, Training: Loss: 0.4756, Accuracy: 77.5432%, \n",
      "\t\tValidation : Loss : 1.5589, Accuracy: 29.7214%, Time: 12.2770s\n",
      "Epoch: 6/30\n",
      "\t\tEpoch   : 005, Training: Loss: 0.4056, Accuracy: 77.7351%, \n",
      "\t\tValidation : Loss : 3.5847, Accuracy: 30.0310%, Time: 15.1550s\n",
      "Epoch: 7/30\n",
      "\t\tEpoch   : 006, Training: Loss: 0.4113, Accuracy: 77.5432%, \n",
      "\t\tValidation : Loss : 2.3555, Accuracy: 47.9876%, Time: 16.6420s\n",
      "Epoch: 8/30\n",
      "\t\tEpoch   : 007, Training: Loss: 0.3445, Accuracy: 87.7159%, \n",
      "\t\tValidation : Loss : 1.0489, Accuracy: 78.9474%, Time: 14.3270s\n",
      "Epoch: 9/30\n",
      "\t\tEpoch   : 008, Training: Loss: 0.2447, Accuracy: 92.5144%, \n",
      "\t\tValidation : Loss : 1.8439, Accuracy: 81.1146%, Time: 8.5950s\n",
      "Epoch: 10/30\n",
      "\t\tEpoch   : 009, Training: Loss: 0.2491, Accuracy: 91.9386%, \n",
      "\t\tValidation : Loss : 1.9928, Accuracy: 61.9195%, Time: 15.5820s\n",
      "Epoch: 11/30\n",
      "\t\tEpoch   : 010, Training: Loss: 0.2231, Accuracy: 91.7466%, \n",
      "\t\tValidation : Loss : 1.6616, Accuracy: 77.7090%, Time: 13.3080s\n",
      "Epoch: 12/30\n",
      "\t\tEpoch   : 011, Training: Loss: 0.3595, Accuracy: 91.3628%, \n",
      "\t\tValidation : Loss : 1.0357, Accuracy: 77.0898%, Time: 12.9750s\n",
      "Epoch: 13/30\n",
      "\t\tEpoch   : 012, Training: Loss: 0.2869, Accuracy: 91.3628%, \n",
      "\t\tValidation : Loss : 0.9434, Accuracy: 82.3529%, Time: 9.9420s\n",
      "Epoch: 14/30\n",
      "\t\tEpoch   : 013, Training: Loss: 0.2023, Accuracy: 92.7063%, \n",
      "\t\tValidation : Loss : 1.0333, Accuracy: 83.9009%, Time: 13.6730s\n",
      "Epoch: 15/30\n",
      "\t\tEpoch   : 014, Training: Loss: 0.1680, Accuracy: 92.8983%, \n",
      "\t\tValidation : Loss : 1.1230, Accuracy: 83.9009%, Time: 17.8000s\n",
      "Epoch: 16/30\n",
      "\t\tEpoch   : 015, Training: Loss: 0.1527, Accuracy: 93.2821%, \n",
      "\t\tValidation : Loss : 1.0349, Accuracy: 83.9009%, Time: 11.3600s\n",
      "Epoch: 17/30\n",
      "\t\tEpoch   : 016, Training: Loss: 0.1411, Accuracy: 93.6660%, \n",
      "\t\tValidation : Loss : 1.2210, Accuracy: 84.2105%, Time: 13.0690s\n",
      "Epoch: 18/30\n",
      "\t\tEpoch   : 017, Training: Loss: 0.1338, Accuracy: 93.6660%, \n",
      "\t\tValidation : Loss : 1.2514, Accuracy: 82.3529%, Time: 17.7060s\n",
      "Epoch: 19/30\n",
      "\t\tEpoch   : 018, Training: Loss: 0.1329, Accuracy: 93.6660%, \n",
      "\t\tValidation : Loss : 2.2398, Accuracy: 79.8762%, Time: 11.7750s\n",
      "Epoch: 20/30\n",
      "\t\tEpoch   : 019, Training: Loss: 0.1828, Accuracy: 92.8983%, \n",
      "\t\tValidation : Loss : 2.4500, Accuracy: 81.4241%, Time: 13.1600s\n",
      "Epoch: 21/30\n",
      "\t\tEpoch   : 020, Training: Loss: 0.1696, Accuracy: 92.7063%, \n",
      "\t\tValidation : Loss : 0.9499, Accuracy: 81.7337%, Time: 18.4890s\n",
      "Epoch: 22/30\n",
      "\t\tEpoch   : 021, Training: Loss: 0.1859, Accuracy: 91.7466%, \n",
      "\t\tValidation : Loss : 0.7141, Accuracy: 81.4241%, Time: 15.6860s\n",
      "Epoch: 23/30\n",
      "\t\tEpoch   : 022, Training: Loss: 0.3637, Accuracy: 86.3724%, \n",
      "\t\tValidation : Loss : 1.2352, Accuracy: 76.4706%, Time: 16.7420s\n",
      "Epoch: 24/30\n",
      "\t\tEpoch   : 023, Training: Loss: 0.2544, Accuracy: 90.4031%, \n",
      "\t\tValidation : Loss : 1.1415, Accuracy: 77.3994%, Time: 15.1570s\n",
      "Epoch: 25/30\n",
      "\t\tEpoch   : 024, Training: Loss: 0.1996, Accuracy: 91.5547%, \n",
      "\t\tValidation : Loss : 1.3502, Accuracy: 79.2570%, Time: 15.1430s\n",
      "Epoch: 26/30\n",
      "\t\tEpoch   : 025, Training: Loss: 0.1925, Accuracy: 92.5144%, \n",
      "\t\tValidation : Loss : 2.6196, Accuracy: 80.4954%, Time: 13.8420s\n",
      "Epoch: 27/30\n",
      "\t\tEpoch   : 026, Training: Loss: 0.3534, Accuracy: 86.5643%, \n",
      "\t\tValidation : Loss : 1.5925, Accuracy: 68.1115%, Time: 12.3040s\n",
      "Epoch: 28/30\n",
      "\t\tEpoch   : 027, Training: Loss: 0.2623, Accuracy: 90.9789%, \n",
      "\t\tValidation : Loss : 1.5391, Accuracy: 71.8266%, Time: 16.9230s\n",
      "Epoch: 29/30\n",
      "\t\tEpoch   : 028, Training: Loss: 0.2268, Accuracy: 92.1305%, \n",
      "\t\tValidation : Loss : 1.4075, Accuracy: 78.9474%, Time: 8.9600s\n",
      "Epoch: 30/30\n",
      "\t\tEpoch   : 029, Training: Loss: 0.3587, Accuracy: 89.2514%, \n",
      "\t\tValidation : Loss : 2.6893, Accuracy: 70.5882%, Time: 15.9710s\n"
     ]
    }
   ],
   "source": [
    "trained_model, history = train_and_validate(gugelnet, loss, opt , epochs)"
   ]
  },
  {
   "cell_type": "code",
   "execution_count": 59,
   "metadata": {},
   "outputs": [
    {
     "data": {
      "image/png": "[encoded data removed]",
      "text/plain": [
       "<Figure size 432x288 with 1 Axes>"
      ]
     },
     "metadata": {
      "needs_background": "light"
     },
     "output_type": "display_data"
    }
   ],
   "source": [
    "history = np.array(history)\n",
    "plt.plot(history[:,0:2])\n",
    "plt.legend(['Tr Loss', 'Val Loss'])\n",
    "plt.xlabel('Epoch Number')\n",
    "plt.ylabel('Loss')\n",
    "plt.ylim(0,3)\n",
    "plt.show()"
   ]
  },
  {
   "cell_type": "code",
   "execution_count": 60,
   "metadata": {},
   "outputs": [
    {
     "data": {
      "text/plain": [
       "(0.0, 1.0)"
      ]
     },
     "execution_count": 60,
     "metadata": {},
     "output_type": "execute_result"
    },
    {
     "data": {
      "image/png": "[encoded data removed]",
      "text/plain": [
       "<Figure size 432x288 with 1 Axes>"
      ]
     },
     "metadata": {
      "needs_background": "light"
     },
     "output_type": "display_data"
    }
   ],
   "source": [
    "plt.plot(history[:,2:4])\n",
    "plt.legend(['Tr Accuracy', 'Val Accuracy'])\n",
    "plt.xlabel('Epoch Number')\n",
    "plt.ylabel('Accuracy')\n",
    "plt.ylim(0,1)"
   ]
  },
  {
   "cell_type": "code",
   "execution_count": 61,
   "metadata": {},
   "outputs": [
    {
     "name": "stderr",
     "output_type": "stream",
     "text": [
      "C:\\Users\\User\\anaconda3\\lib\\site-packages\\torch\\nn\\functional.py:780: UserWarning: Note that order of the arguments: ceil_mode and return_indices will changeto match the args list in nn.MaxPool2d in a future release.\n",
      "  warnings.warn(\"Note that order of the arguments: ceil_mode and return_indices will change\"\n"
     ]
    },
    {
     "name": "stdout",
     "output_type": "stream",
     "text": [
      "Accuracy for class: durian is 0.0 %\n",
      "Accuracy for class: pumpkin is 62.0 %\n",
      "Accuracy for class: tomato is 98.0 %\n",
      "Accuracy for class: watermelon is 84.6 %\n"
     ]
    }
   ],
   "source": [
    "correct_pred = {classname: 0 for classname in os.listdir(train_directory)}\n",
    "total_pred = {classname: 0 for classname in os.listdir(train_directory)}\n",
    "\n",
    "# again no gradients needed\n",
    "with torch.no_grad():\n",
    "    for data in valid_loader:\n",
    "        images, labels = data[0].to(device), data[1].to(device)\n",
    "#         images = images.view(images.size(0), -1)\n",
    "        outputs = gugelnet(images)\n",
    "        _, predictions = torch.max(outputs, 1)\n",
    "        # collect the correct predictions for each class\n",
    "        for label, prediction in zip(labels, predictions):\n",
    "            if label == prediction:\n",
    "                correct_pred[os.listdir(train_directory)[label]] += 1\n",
    "            total_pred[os.listdir(train_directory)[label]] += 1\n",
    "\n",
    "\n",
    "# print accuracy for each class\n",
    "for classname, correct_count in correct_pred.items():\n",
    "    accuracy = 100 * float(correct_count) / total_pred[classname]\n",
    "    print(f'Accuracy for class: {classname:5s} is {accuracy:.1f} %')"
   ]
  },
  {
   "cell_type": "code",
   "execution_count": 62,
   "metadata": {},
   "outputs": [
    {
     "data": {
      "text/plain": [
       "<AxesSubplot:>"
      ]
     },
     "execution_count": 62,
     "metadata": {},
     "output_type": "execute_result"
    },
    {
     "data": {
      "image/png": "[encoded data removed]",
      "text/plain": [
       "<Figure size 1440x720 with 2 Axes>"
      ]
     },
     "metadata": {
      "needs_background": "light"
     },
     "output_type": "display_data"
    }
   ],
   "source": [
    "y_pred = []\n",
    "y_true = []\n",
    "\n",
    "gugelnet.to('cpu')\n",
    "\n",
    "# iterate over test data\n",
    "for inputs, labels in valid_loader:\n",
    "        output = gugelnet(inputs) # Feed Network\n",
    "\n",
    "        output = (torch.max(torch.exp(output), 1)[1]).data.cpu().numpy()\n",
    "        y_pred.extend(output) # Save Prediction\n",
    "        \n",
    "        labels = labels.data.cpu().numpy()\n",
    "        y_true.extend(labels) # Save Truth\n",
    "\n",
    "# constant for classes\n",
    "classes = ('Durian', 'Pumpkin', 'Tomato', 'Watermelon')\n",
    "\n",
    "# Build confusion matrix\n",
    "cf_matrix = confusion_matrix(y_true, y_pred)\n",
    "df_cm = pd.DataFrame(cf_matrix/np.sum(cf_matrix) *10, index = [i for i in classes],\n",
    "                     columns = [i for i in classes])\n",
    "plt.figure(figsize = (20,10))\n",
    "sn.heatmap(df_cm, annot=True)\n",
    "# plt.savefig('output.png')"
   ]
  }
 ],
 "metadata": {
  "kernelspec": {
   "display_name": "Python 3",
   "language": "python",
   "name": "python3"
  },
  "language_info": {
   "codemirror_mode": {
    "name": "ipython",
    "version": 3
   },
   "file_extension": ".py",
   "mimetype": "text/x-python",
   "name": "python",
   "nbconvert_exporter": "python",
   "pygments_lexer": "ipython3",
   "version": "3.8.5"
  }
 },
 "nbformat": 4,
 "nbformat_minor": 4
}
